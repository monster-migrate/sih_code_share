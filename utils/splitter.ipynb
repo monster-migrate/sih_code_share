{
 "cells": [
  {
   "cell_type": "code",
   "execution_count": null,
   "metadata": {},
   "outputs": [],
   "source": [
    "import os\n",
    "import shutil\n",
    "import random\n",
    "from glob import glob\n",
    "from tqdm import tqdm"
   ]
  },
  {
   "cell_type": "markdown",
   "metadata": {},
   "source": [
    "To train on custom data, we need to organize the files in a specific format, and then we can run:  \n",
    "\n",
    "python train.py --img 96 --batch 16 --epochs 3 --data ../genderDetectionCfg.yaml --cfg ./models/yolov5s.yaml --weights ../weights/yolov5s-seg.pt  \n",
    "For Testing if it works or not, use:  \n",
    "python detect.py --weights runs/train/exp11/weights/best.pt --img 96 --conf 0.25 --source 0"
   ]
  },
  {
   "cell_type": "code",
   "execution_count": null,
   "metadata": {},
   "outputs": [],
   "source": [
    "root_directories = ['/mnt/c/Users/nodeX/Documents/SIH/datasets/GenderClassifficationDataset/Training/female/',\n",
    "                  '/mnt/c/Users/nodeX/Documents/SIH/datasets/GenderClassifficationDataset/Training/male/',\n",
    "                  '/mnt/c/Users/nodeX/Documents/SIH/datasets/GenderClassifficationDataset/Validation/female/',\n",
    "                  '/mnt/c/Users/nodeX/Documents/SIH/datasets/GenderClassifficationDataset/Validation/male/']\n",
    "\n",
    "def renameFilesBecauseItsTheRightThingToDo(root_directories):\n",
    "    \"\"\"\n",
    "    Renames all '.jpg' files in the specified root directories to sequentially numbered files.\n",
    "\n",
    "    This function traverses each root directory provided, and for each file with a '.jpg' extension,\n",
    "    renames it to a new filename in the format '1.jpg', '2.jpg', etc. The renaming is done sequentially\n",
    "    across all directories provided.\n",
    "\n",
    "    Args:\n",
    "        root_directories (list of str): A list of paths to the root directories where the renaming should occur.\n",
    "\n",
    "    Returns:\n",
    "        None: The function performs file renaming operations and prints the old and new filenames to the console.\n",
    "\n",
    "    Example:\n",
    "        >>> renameFilesBecauseItsTheRightThingToDO(['/path/to/dir1', '/path/to/dir2'])\n",
    "        Renamed: /path/to/dir1/oldname.jpg to /path/to/dir1/1.jpg\n",
    "        Renamed: /path/to/dir2/anothername.jpg to /path/to/dir2/2.jpg\n",
    "    \"\"\"\n",
    "    counter = 1\n",
    "    for root_directory in root_directories:\n",
    "        for subdir, _, files in os.walk(root_directory):\n",
    "            for file in sorted(files):\n",
    "                if file.endswith('.jpg'):\n",
    "                    new_filename = f\"{counter}.jpg\"\n",
    "                    old_file = os.path.join(subdir, file)\n",
    "                    new_file = os.path.join(subdir, new_filename)\n",
    "                    os.rename(old_file, new_file)\n",
    "                    print(f\"Renamed: {old_file} to {new_file}\")\n",
    "                    counter += 1"
   ]
  },
  {
   "cell_type": "code",
   "execution_count": null,
   "metadata": {},
   "outputs": [],
   "source": [
    "dataset_dir = '../datasets/GenderClassifficationDataset/'\n",
    "output_dir = '../datasets/out/'\n",
    "classes = {'male': 0, 'female': 1}"
   ]
  },
  {
   "cell_type": "code",
   "execution_count": null,
   "metadata": {},
   "outputs": [],
   "source": [
    "classes.keys()"
   ]
  },
  {
   "cell_type": "code",
   "execution_count": null,
   "metadata": {},
   "outputs": [],
   "source": [
    "os.listdir(dataset_dir+\"/Training/female\").__len__()"
   ]
  },
  {
   "cell_type": "code",
   "execution_count": null,
   "metadata": {},
   "outputs": [],
   "source": [
    "for split in ['train', 'val']:\n",
    "    for class_name, class_id in classes.items():\n",
    "        print(class_name, class_id)"
   ]
  },
  {
   "cell_type": "code",
   "execution_count": null,
   "metadata": {},
   "outputs": [],
   "source": [
    "def create_dirs(base_dir):\n",
    "    os.makedirs(os.path.join(base_dir, 'images', 'train'), exist_ok=True)\n",
    "    os.makedirs(os.path.join(base_dir, 'images', 'val'), exist_ok=True)\n",
    "    os.makedirs(os.path.join(base_dir, 'images', 'test'), exist_ok=True)\n",
    "    for class_name in classes.keys():\n",
    "        os.makedirs(os.path.join(base_dir, 'images', 'train', class_name), exist_ok=True)\n",
    "        os.makedirs(os.path.join(base_dir, 'images', 'val', class_name), exist_ok=True)\n",
    "        os.makedirs(os.path.join(base_dir, 'images', 'test', class_name), exist_ok=True)"
   ]
  },
  {
   "cell_type": "code",
   "execution_count": null,
   "metadata": {},
   "outputs": [],
   "source": [
    "create_dirs(output_dir)\n",
    "def train_test_val_split(image_dir, label, label_id, split):\n",
    "    destination = os.path.join(output_dir,\"images\",split,label)\n",
    "    image_paths = glob(os.path.join(dataset_dir+(\"Training\" if split==\"train\" else \"Validation\")+\"/\"+label, '*.jpg'))\n",
    "    for image_path in image_paths:\n",
    "        image_name = os.path.basename(image_path)\n",
    "        shutil.copy(image_path, os.path.join(destination, image_name)) \n",
    "    print(destination)\n",
    "splits = [\"train\",\"val\"]\n",
    "for split in splits:\n",
    "    for class_name, class_id in classes.items():\n",
    "        train_test_val_split(dataset_dir+(\"Training\" if split==\"train\" else \"Validation\"), class_name, class_id, split)\n",
    "\n",
    "for class_name in classes.keys():\n",
    "    val_images = glob(os.path.join(output_dir, 'images', 'val',class_name, '*.jpg'))\n",
    "    random.shuffle(val_images)\n",
    "    test_size = int(len(val_images) * 0.2)  # Using 20% of validation data for testing\n",
    "    test_images = val_images[:test_size]\n",
    "    for test_image in test_images:\n",
    "        # Move the image and its label to the test set\n",
    "        test_image_name = os.path.basename(test_image)\n",
    "        shutil.move(test_image, os.path.join(output_dir, 'images', 'test',class_name, test_image_name))\n",
    "        "
   ]
  },
  {
   "cell_type": "code",
   "execution_count": null,
   "metadata": {},
   "outputs": [],
   "source": [
    "base_dir = \"../datasets/out/\"\n",
    "os.makedirs(os.path.join(base_dir, 'labels', 'train'), exist_ok=True)\n",
    "os.makedirs(os.path.join(base_dir, 'labels', 'val'), exist_ok=True)\n",
    "os.makedirs(os.path.join(base_dir, 'labels', 'test'), exist_ok=True)\n",
    "for class_name in classes.keys():\n",
    "    os.makedirs(os.path.join(base_dir, 'labels', 'train', class_name), exist_ok=True)\n",
    "    os.makedirs(os.path.join(base_dir, 'labels', 'val', class_name), exist_ok=True)\n",
    "    os.makedirs(os.path.join(base_dir, 'labels', 'test', class_name), exist_ok=True)"
   ]
  },
  {
   "cell_type": "code",
   "execution_count": null,
   "metadata": {},
   "outputs": [],
   "source": [
    "def create_labels(base_dir):\n",
    "    \n",
    "    splits = [\"train\",\"val\",\"test\"]\n",
    "    for split in splits:\n",
    "        for class_name, class_id in classes.items():\n",
    "            # print(os.path.join(base_dir,split, class_name, '*.jpg'))\n",
    "            image_paths = glob(os.path.join(base_dir,split, class_name, '*.jpg'))\n",
    "            print(image_paths)\n",
    "            for image_path in image_paths:\n",
    "                image_name = os.path.basename(image_path)\n",
    "                label_path = os.path.join(\"../datasets/out/\", 'labels', split, class_name, image_name.replace('.jpg', '.txt'))\n",
    "                # print(label_path)\n",
    "                with open(label_path, 'w') as label_file:\n",
    "                    label_file.write(f\"{class_id} 0.5 0.5 1.0 1.0\\n\")  # Dummy YOLO format: class_id x_center y_center width height\n",
    "create_labels(\"../datasets/out/images\")"
   ]
  },
  {
   "cell_type": "code",
   "execution_count": null,
   "metadata": {},
   "outputs": [],
   "source": [
    "label_path = os.path.join(output_dir, 'labels', split, image_name.replace('.jpg', '.txt'))\n",
    "with open(label_path, 'w') as label_file:\n",
    "    label_file.write(f\"{label_id} 0.5 0.5 1.0 1.0\\n\")  # Dummy YOLO format: class_id x_center y_center width height\n",
    "            \n",
    "test_label = test_image.replace('/images/val/', '/labels/val/').replace('.jpg', '.txt')\n",
    "shutil.move(test_label, os.path.join(output_dir, 'labels', 'test', os.path.basename(test_label)))"
   ]
  },
  {
   "cell_type": "code",
   "execution_count": null,
   "metadata": {},
   "outputs": [],
   "source": [
    "label_path = os.path.join(output_dir, 'labels', split, image_name.replace('.jpg', '.txt'))\n",
    "        \n",
    "        # Assuming one bounding box covering the whole image (change this logic as per your data)\n",
    "with open(label_path, 'w') as label_file:\n",
    "    label_file.write(f\"{class_id} 0.5 0.5 1.0 1.0\\n\")  # Dummy YOLO format: class_id x_center y_center width height"
   ]
  },
  {
   "cell_type": "code",
   "execution_count": null,
   "metadata": {},
   "outputs": [],
   "source": [
    "for class_name in classes.keys():\n",
    "    val_images = glob(os.path.join(output_dir, 'images', 'val',class_name, '*.jpg'))\n",
    "    random.shuffle(val_images)\n",
    "    test_size = int(len(val_images) * 0.2)  # Using 20% of validation data for testing\n",
    "    test_images = val_images[:test_size]\n",
    "    for test_image in test_images:\n",
    "        # Move the image and its label to the test set\n",
    "        test_image_name = os.path.basename(test_image)\n",
    "        shutil.move(test_image, os.path.join(output_dir, 'images', 'test',class_name, test_image_name))\n",
    "        test_label = test_image.replace('/images/val/', '/labels/val/').replace('.jpg', '.txt')\n",
    "        shutil.move(test_label, os.path.join(output_dir, 'labels', 'test', os.path.basename(test_label)))"
   ]
  }
 ],
 "metadata": {
  "kernelspec": {
   "display_name": "visions",
   "language": "python",
   "name": "python3"
  },
  "language_info": {
   "codemirror_mode": {
    "name": "ipython",
    "version": 3
   },
   "file_extension": ".py",
   "mimetype": "text/x-python",
   "name": "python",
   "nbconvert_exporter": "python",
   "pygments_lexer": "ipython3",
   "version": "3.12.4"
  }
 },
 "nbformat": 4,
 "nbformat_minor": 2
}
